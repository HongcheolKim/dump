{
 "cells": [
  {
   "cell_type": "code",
   "execution_count": 1,
   "metadata": {},
   "outputs": [],
   "source": [
    "# 패키지/모듈 불러오기\n",
    "import numpy as np\n",
    "from scipy import stats"
   ]
  },
  {
   "cell_type": "code",
   "execution_count": 2,
   "metadata": {},
   "outputs": [],
   "source": [
    "# 설문조사 데이터 불러오기\n",
    "import pandas as pd\n",
    "df = pd.read_excel('D:/GEODATA/QNR.xlsx', sheet_name='QNR')\n",
    "a = df[df.F2 == 1]['F6'].values\n",
    "b = df[df.F2 == 2]['F6'].values"
   ]
  },
  {
   "cell_type": "code",
   "execution_count": 3,
   "metadata": {},
   "outputs": [
    {
     "name": "stdout",
     "output_type": "stream",
     "text": [
      "t = 3.8751227901478797\n",
      "p = 0.00011290469578833629\n"
     ]
    }
   ],
   "source": [
    "# t-검정 계산\n",
    "t, p = stats.ttest_ind(a, b)\n",
    "print(\"t = \" + str(t))\n",
    "print(\"p = \" + str(p))"
   ]
  },
  {
   "cell_type": "code",
   "execution_count": 4,
   "metadata": {},
   "outputs": [],
   "source": [
    "# 표본의 분산(불편추정량) 계산\n",
    "var_a = a.var(ddof=1)\n",
    "var_b = b.var(ddof=1)\n",
    "\n",
    "# [1] 동일한 표본 크기, 동일한 분산\n",
    "s = np.sqrt((var_a + var_b)/2)\n",
    "\n",
    "# [2] 동일하거나 동일하지 않은 표본 크기, 동일한 분산\n",
    "s = np.sqrt(((a.size-1)*var_a+(b.size-1)*var_b) / (a.size+b.size-2))"
   ]
  },
  {
   "cell_type": "code",
   "execution_count": 5,
   "metadata": {},
   "outputs": [
    {
     "name": "stdout",
     "output_type": "stream",
     "text": [
      "t = 3.8751227901478797\n"
     ]
    }
   ],
   "source": [
    "# t-검정 계산\n",
    "t = (a.mean() - b.mean()) / (s * np.sqrt(1/a.size+1/b.size))\n",
    "print(\"t = \" + str(t))"
   ]
  },
  {
   "cell_type": "code",
   "execution_count": 6,
   "metadata": {},
   "outputs": [
    {
     "name": "stdout",
     "output_type": "stream",
     "text": [
      "p = 0.00011290469578839613\n"
     ]
    }
   ],
   "source": [
    "# 자유도 계산\n",
    "df = (a.size - 1) + (b.size - 1)\n",
    "\n",
    "# 유의확률 p값 계산\n",
    "p = 1 - stats.t.cdf(t,df=df)\n",
    "print(\"p = \" + str(2*p))"
   ]
  },
  {
   "cell_type": "code",
   "execution_count": null,
   "metadata": {},
   "outputs": [],
   "source": []
  }
 ],
 "metadata": {
  "kernelspec": {
   "display_name": "Python 3",
   "language": "python",
   "name": "python3"
  },
  "language_info": {
   "codemirror_mode": {
    "name": "ipython",
    "version": 3
   },
   "file_extension": ".py",
   "mimetype": "text/x-python",
   "name": "python",
   "nbconvert_exporter": "python",
   "pygments_lexer": "ipython3",
   "version": "3.5.4"
  }
 },
 "nbformat": 4,
 "nbformat_minor": 2
}
