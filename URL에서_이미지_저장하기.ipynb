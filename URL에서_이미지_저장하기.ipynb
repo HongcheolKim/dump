{
 "cells": [
  {
   "cell_type": "code",
   "execution_count": null,
   "metadata": {},
   "outputs": [],
   "source": [
    "# Flickr CSV 파일 읽기\n",
    "import pandas as pd\n",
    "df = pd.read_csv('D:/GEODATA/FLICKR_PRK.csv', engine='python')"
   ]
  },
  {
   "cell_type": "code",
   "execution_count": null,
   "metadata": {},
   "outputs": [],
   "source": [
    "# URL 컬럼 확인\n",
    "df['url'].head()"
   ]
  },
  {
   "cell_type": "code",
   "execution_count": null,
   "metadata": {},
   "outputs": [],
   "source": [
    "# 전체 레코드 수 확인\n",
    "len(df)"
   ]
  },
  {
   "cell_type": "code",
   "execution_count": null,
   "metadata": {},
   "outputs": [],
   "source": [
    "# 파일명 정렬\n",
    "for i in df['url']:\n",
    "    print(os.path.basename(i).replace(\"_m\", \"\"))"
   ]
  },
  {
   "cell_type": "code",
   "execution_count": null,
   "metadata": {},
   "outputs": [],
   "source": [
    "import urllib.request\n",
    "for i in df['url']:\n",
    "    url = i.replace(\"_m\", \"\") # 파일명에서 '_m'을 삭제해서 고해상도 사진 확보\n",
    "    image = \"D:/GEODATA/FLICKR_PRK/\" + os.path.basename(i).replace(\"_m\", \"\") # 파일명 정의\n",
    "    urllib.request.urlretrieve(url, image)"
   ]
  },
  {
   "cell_type": "code",
   "execution_count": null,
   "metadata": {},
   "outputs": [],
   "source": []
  }
 ],
 "metadata": {
  "kernelspec": {
   "display_name": "Python 3",
   "language": "python",
   "name": "python3"
  },
  "language_info": {
   "codemirror_mode": {
    "name": "ipython",
    "version": 3
   },
   "file_extension": ".py",
   "mimetype": "text/x-python",
   "name": "python",
   "nbconvert_exporter": "python",
   "pygments_lexer": "ipython3",
   "version": "3.5.4"
  }
 },
 "nbformat": 4,
 "nbformat_minor": 2
}
